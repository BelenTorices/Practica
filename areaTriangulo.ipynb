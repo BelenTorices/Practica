{
  "nbformat": 4,
  "nbformat_minor": 0,
  "metadata": {
    "colab": {
      "name": "Untitled2.ipynb",
      "provenance": [],
      "authorship_tag": "ABX9TyNzybdgvBPmS/rnNY8HsljH",
      "include_colab_link": true
    },
    "kernelspec": {
      "name": "python3",
      "display_name": "Python 3"
    },
    "language_info": {
      "name": "python"
    }
  },
  "cells": [
    {
      "cell_type": "markdown",
      "metadata": {
        "id": "view-in-github",
        "colab_type": "text"
      },
      "source": [
        "<a href=\"https://colab.research.google.com/github/BelenTorices/Practica/blob/main/areaTriangulo.ipynb\" target=\"_parent\"><img src=\"https://colab.research.google.com/assets/colab-badge.svg\" alt=\"Open In Colab\"/></a>"
      ]
    },
    {
      "cell_type": "markdown",
      "source": [
        "Pedir base y altura de un triángulo para sacar su área.\n",
        "Elaborado por Belen Torices 25.08.22"
      ],
      "metadata": {
        "id": "2F-8fnpGHhtY"
      }
    },
    {
      "cell_type": "code",
      "source": [
        "def areaTriangulo(base, altura):\n",
        "  resultado = (base * altura)/2\n",
        "  return resultado\n",
        "dato = int (input (\"Ingresa el valor de la base: \"))\n",
        "dato1 = int (input (\"Ingresa el valor de la altura: \"))\n",
        "area = areaTriangulo (dato, dato1)\n",
        "print ((\"El resultado del area es: \"), str(area))\n"
      ],
      "metadata": {
        "colab": {
          "base_uri": "https://localhost:8080/"
        },
        "id": "2P3_IR4XElN-",
        "outputId": "7c19e7cd-5def-4d74-8b7a-25858e4055eb"
      },
      "execution_count": 2,
      "outputs": [
        {
          "output_type": "stream",
          "name": "stdout",
          "text": [
            "Ingresa el valor de la base: 20\n",
            "Ingresa el valor de la altura: 21\n",
            "El resultado del area es:  210.0\n"
          ]
        }
      ]
    }
  ]
}