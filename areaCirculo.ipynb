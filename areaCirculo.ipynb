{
  "nbformat": 4,
  "nbformat_minor": 0,
  "metadata": {
    "colab": {
      "name": "Untitled3.ipynb",
      "provenance": [],
      "collapsed_sections": [],
      "authorship_tag": "ABX9TyMNq2ZUprt1Kw7PGv+fCrdK",
      "include_colab_link": true
    },
    "kernelspec": {
      "name": "python3",
      "display_name": "Python 3"
    },
    "language_info": {
      "name": "python"
    }
  },
  "cells": [
    {
      "cell_type": "markdown",
      "metadata": {
        "id": "view-in-github",
        "colab_type": "text"
      },
      "source": [
        "<a href=\"https://colab.research.google.com/github/BelenTorices/Practica/blob/main/areaCirculo.ipynb\" target=\"_parent\"><img src=\"https://colab.research.google.com/assets/colab-badge.svg\" alt=\"Open In Colab\"/></a>"
      ]
    },
    {
      "cell_type": "markdown",
      "source": [
        "Pedir radio de un circulo para sacar su área. Elaborado por Belen Torices 25.08.22"
      ],
      "metadata": {
        "id": "vILSU5DaWp0x"
      }
    },
    {
      "cell_type": "code",
      "source": [
        "def areaCirculo(radio):\n",
        "  resultado = (3.1416 * radio**2)\n",
        "  return resultado\n",
        "dato = int (input (\"Ingresa el valor del radio: \"))\n",
        "area = areaCirculo (dato)\n",
        "print ((\"El resultado es: \"), str(area))"
      ],
      "metadata": {
        "colab": {
          "base_uri": "https://localhost:8080/"
        },
        "id": "2GpI_CPIUL5y",
        "outputId": "15ac13ae-42ad-4d26-fd53-078d74cfc772"
      },
      "execution_count": 1,
      "outputs": [
        {
          "output_type": "stream",
          "name": "stdout",
          "text": [
            "Ingresa el valor del radio: 21\n",
            "El resultado es:  1385.4456\n"
          ]
        }
      ]
    }
  ]
}