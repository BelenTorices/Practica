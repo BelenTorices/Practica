{
  "nbformat": 4,
  "nbformat_minor": 0,
  "metadata": {
    "colab": {
      "name": "Untitled4.ipynb",
      "provenance": [],
      "authorship_tag": "ABX9TyOrjL/S06tune3EDSeOfbAK",
      "include_colab_link": true
    },
    "kernelspec": {
      "name": "python3",
      "display_name": "Python 3"
    },
    "language_info": {
      "name": "python"
    }
  },
  "cells": [
    {
      "cell_type": "markdown",
      "metadata": {
        "id": "view-in-github",
        "colab_type": "text"
      },
      "source": [
        "<a href=\"https://colab.research.google.com/github/BelenTorices/Practica/blob/main/areaTrapecio.ipynb\" target=\"_parent\"><img src=\"https://colab.research.google.com/assets/colab-badge.svg\" alt=\"Open In Colab\"/></a>"
      ]
    },
    {
      "cell_type": "markdown",
      "source": [
        "Pedir base 1, base 2 y altura de un trapecio para sacar su área. Elaborado por Belen Torices 25.08.22"
      ],
      "metadata": {
        "id": "aI-5jbC_6vAa"
      }
    },
    {
      "cell_type": "code",
      "source": [
        "def areaTrapecio(baseA, baseB, altura):\n",
        "  resultado = ((baseA + baseB) * altura)/2\n",
        "  return resultado\n",
        "dato = int (input (\"Ingresa el valor de la base 1: \"))\n",
        "dato1 = int (input (\"Ingresa el valor de la base 2: \"))\n",
        "dato2 = int (input (\"Ingresa el valor de la altura: \"))\n",
        "area = areaTrapecio (dato, dato1, dato2)\n",
        "print ((\"El resultado del area es: \"), str(area))"
      ],
      "metadata": {
        "colab": {
          "base_uri": "https://localhost:8080/"
        },
        "id": "LmQM3zl65Zak",
        "outputId": "68fc70b7-cb18-4618-9d4a-b0cd2d794230"
      },
      "execution_count": 1,
      "outputs": [
        {
          "output_type": "stream",
          "name": "stdout",
          "text": [
            "Ingresa el valor de la base 1: 20\n",
            "Ingresa el valor de la base 2: 12\n",
            "Ingresa el valor de la altura: 30\n",
            "El resultado del area es:  480.0\n"
          ]
        }
      ]
    }
  ]
}