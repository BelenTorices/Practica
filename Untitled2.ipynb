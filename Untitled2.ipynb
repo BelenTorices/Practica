{
  "nbformat": 4,
  "nbformat_minor": 0,
  "metadata": {
    "colab": {
      "name": "Untitled2.ipynb",
      "provenance": [],
      "authorship_tag": "ABX9TyPWQxUUhkKVUZmeWKAnu6rI",
      "include_colab_link": true
    },
    "kernelspec": {
      "name": "python3",
      "display_name": "Python 3"
    },
    "language_info": {
      "name": "python"
    }
  },
  "cells": [
    {
      "cell_type": "markdown",
      "metadata": {
        "id": "view-in-github",
        "colab_type": "text"
      },
      "source": [
        "<a href=\"https://colab.research.google.com/github/BelenTorices/Practica/blob/main/Untitled2.ipynb\" target=\"_parent\"><img src=\"https://colab.research.google.com/assets/colab-badge.svg\" alt=\"Open In Colab\"/></a>"
      ]
    },
    {
      "cell_type": "markdown",
      "source": [
        "Pedir base y altura de un triángulo para sacar su área.\n",
        "Elaborado por Belen Torices 25.08.22"
      ],
      "metadata": {
        "id": "2F-8fnpGHhtY"
      }
    },
    {
      "cell_type": "code",
      "source": [
        "def areaTriangulo(base, altura):\n",
        "  resultado = (base * altura)/2\n",
        "  return resultado\n",
        "dato = int (input (\"Ingresa el valor de la base: \"))\n",
        "dato1 = int (input (\"Ingresa el valor de la altura: \"))\n",
        "area = areaTriangulo (dato, dato1)\n",
        "print ((\"El resultado es: \"), str(area))\n"
      ],
      "metadata": {
        "colab": {
          "base_uri": "https://localhost:8080/"
        },
        "id": "2P3_IR4XElN-",
        "outputId": "3db9fef5-f557-49c0-f226-e4f090d3bdbe"
      },
      "execution_count": 16,
      "outputs": [
        {
          "output_type": "stream",
          "name": "stdout",
          "text": [
            "Ingresa el valor de la base: 11\n",
            "Ingresa el valor de la altura: 12\n",
            "El resultado es:  66.0\n"
          ]
        }
      ]
    }
  ]
}