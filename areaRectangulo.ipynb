{
  "nbformat": 4,
  "nbformat_minor": 0,
  "metadata": {
    "colab": {
      "name": "Untitled5.ipynb",
      "provenance": [],
      "authorship_tag": "ABX9TyMXuCZ82noJ5mhbVxUKq6i5",
      "include_colab_link": true
    },
    "kernelspec": {
      "name": "python3",
      "display_name": "Python 3"
    },
    "language_info": {
      "name": "python"
    }
  },
  "cells": [
    {
      "cell_type": "markdown",
      "metadata": {
        "id": "view-in-github",
        "colab_type": "text"
      },
      "source": [
        "<a href=\"https://colab.research.google.com/github/BelenTorices/Practica/blob/main/areaRectangulo.ipynb\" target=\"_parent\"><img src=\"https://colab.research.google.com/assets/colab-badge.svg\" alt=\"Open In Colab\"/></a>"
      ]
    },
    {
      "cell_type": "markdown",
      "source": [
        "Pedir base y altura de un rectangulo para sacar su área. Elaborado por Belen Torices 25.08.22\n",
        "\n"
      ],
      "metadata": {
        "id": "aFYsCjP38BH-"
      }
    },
    {
      "cell_type": "code",
      "execution_count": 1,
      "metadata": {
        "colab": {
          "base_uri": "https://localhost:8080/"
        },
        "id": "UZOMTFVI7GPu",
        "outputId": "44b82bf2-d4d5-403b-c96a-5c56d417df50"
      },
      "outputs": [
        {
          "output_type": "stream",
          "name": "stdout",
          "text": [
            "Ingresa el valor de la base: 20\n",
            "Ingresa el valor de la altura: 15\n",
            "El resultado del area es:  300\n"
          ]
        }
      ],
      "source": [
        "def areaRectangulo(base, altura):\n",
        "  resultado = (base * altura)\n",
        "  return resultado\n",
        "dato = int (input (\"Ingresa el valor de la base: \"))\n",
        "dato1 = int (input (\"Ingresa el valor de la altura: \"))\n",
        "area = areaRectangulo (dato, dato1)\n",
        "print ((\"El resultado del area es: \"), str(area))"
      ]
    }
  ]
}