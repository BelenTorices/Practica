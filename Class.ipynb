{
  "nbformat": 4,
  "nbformat_minor": 0,
  "metadata": {
    "colab": {
      "name": "Untitled6.ipynb",
      "provenance": [],
      "authorship_tag": "ABX9TyMFHg2TKckL8cOVqAGZ9mUR",
      "include_colab_link": true
    },
    "kernelspec": {
      "name": "python3",
      "display_name": "Python 3"
    },
    "language_info": {
      "name": "python"
    }
  },
  "cells": [
    {
      "cell_type": "markdown",
      "metadata": {
        "id": "view-in-github",
        "colab_type": "text"
      },
      "source": [
        "<a href=\"https://colab.research.google.com/github/BelenTorices/Practica/blob/main/Class.ipynb\" target=\"_parent\"><img src=\"https://colab.research.google.com/assets/colab-badge.svg\" alt=\"Open In Colab\"/></a>"
      ]
    },
    {
      "cell_type": "markdown",
      "source": [
        "Uso de clase, def y objeto. Elaborado por Belen Torices 26.08.22"
      ],
      "metadata": {
        "id": "Y1t3JC7WWGEc"
      }
    },
    {
      "cell_type": "code",
      "execution_count": 13,
      "metadata": {
        "colab": {
          "base_uri": "https://localhost:8080/"
        },
        "id": "vAWwaZssRkCZ",
        "outputId": "24eb1a4e-994e-4804-e67f-022a8963d533"
      },
      "outputs": [
        {
          "output_type": "stream",
          "name": "stdout",
          "text": [
            "¡Hola, mundo!\n",
            "¡Hola, mundo!\n"
          ]
        }
      ],
      "source": [
        "class Alumno:\n",
        "\n",
        "  def saludar(self):\n",
        "    \"\"\"Imprime un saludo en la pantalla\"\"\"\n",
        "    print(\"¡Hola, mundo!\")\n",
        "\n",
        "alumno = Alumno()\n",
        "Alumno.saludar(alumno)\n",
        "\n",
        "obj = Alumno\n",
        "obj.saludar(alumno)\n",
        "    \n"
      ]
    }
  ]
}